{
 "cells": [
  {
   "cell_type": "markdown",
   "metadata": {},
   "source": [
    "# PANDAS CAPSTONE PROJECT- SCHOOL SAFETY\n",
    "\n",
    "![scs.png](scs.png)\n",
    "    \n",
    "<img src=\"https://www.vernonpublicschools.org/uploaded/Safety_and_Security/crssafety.jpg\" width=\"310/\"> \n",
    "\n",
    "* Since 1998, the New York City Police Department (NYPD) has been tasked with the collection and maintenance of crime data for incidents that occur in New York City public schools. For presentation purposes, each incident has been classified in one of three categories. These categories are:\n",
    "<br>\n",
    "**Major Crimes:** This category is consistent with those regularly and publicly reported by the NYPD. It includes the most serious personal and property crimes. The property crimes are burglary, grand larceny and grand larceny auto. The crimes against persons are murder, rape, robbery and felony assault.\n",
    "<br>\n",
    "**Other Crimes:** This category is composed of many crimes and incidents that range in severity. It includes reports of incidents such as arson/explosion, misdemeanor assault, criminal possession or sale of a controlled substance, sale of marijuana, criminal mischief, petit larceny, reckless endangerment, sex offenses (not including rape, which is included in the Major Crimes), and weapons possession.\n",
    "<br>\n",
    "**Non-Criminal Incidents:** This category includes actions which are not classified as crimes but are nevertheless disruptive to the school environment. It includes disorderly conduct, harassment, loitering, possession of marijuana, dangerous instruments and trespass.\n",
    "<br>\n",
    "NYPD and NYC Department of Education are stored this crime data as annualy school safety reports and published on https://www.data.gov/ . <br>\n",
    " __In this Data Analysis exercise, I concatenated the School Safety Reports of the 2015 and 2016, and I will try to Analyse this data.__ <br>\n"
   ]
  },
  {
   "cell_type": "markdown",
   "metadata": {},
   "source": [
    "### IMPORTING LIBRARIES\n",
    "* Import `numpy` as `np` and `pandas` as `pd`"
   ]
  },
  {
   "cell_type": "code",
   "execution_count": 4,
   "metadata": {},
   "outputs": [],
   "source": [
    "import numpy as np \n",
    "import pandas as pd"
   ]
  },
  {
   "cell_type": "markdown",
   "metadata": {},
   "source": [
    "### STEP 1: EXAMINING DF "
   ]
  },
  {
   "cell_type": "markdown",
   "metadata": {},
   "source": [
    "#### IMPORTING DATA\n",
    "\n",
    "* Import the school safety data and name it as:\n",
    "    * 2015_16ss: `ss1516`\n",
    "    * 2016_17ss: `ss1617`\n",
    "* Don't forget to set `encoding=\"utf-8\"` , `quotechar='\"', and `delimiter=\",\"`"
   ]
  },
  {
   "cell_type": "code",
   "execution_count": null,
   "metadata": {},
   "outputs": [],
   "source": []
  },
  {
   "cell_type": "markdown",
   "metadata": {},
   "source": [
    "* Create `ss1517` by concating `ss1516` and `ss1617`\n",
    "* Use `shape` to figure out how many rows and columns our `ss1517` has."
   ]
  },
  {
   "cell_type": "code",
   "execution_count": null,
   "metadata": {},
   "outputs": [],
   "source": []
  },
  {
   "cell_type": "markdown",
   "metadata": {},
   "source": [
    "* Print the first 3 rows of `ss1517`"
   ]
  },
  {
   "cell_type": "code",
   "execution_count": null,
   "metadata": {
    "scrolled": true
   },
   "outputs": [],
   "source": []
  },
  {
   "cell_type": "markdown",
   "metadata": {},
   "source": [
    "#### Explanation of the Columns is needed to understand our analysis better <br>\n",
    "* __Location Name__ is the the name by which the organization is known. For a learning community, it is the official title of the school. <br>\n",
    "* __Location Code__ is a unique identifier that can include schools, administrative offices, learning communities, etc. <br>\n",
    "* __Borough__ is the NYC Boro the location is situated in. <br>\n",
    "* __Geographical District Code__ the school’s geographical district as defined by the NYC Department of Education. <br>\n",
    "* __Register__ Number of students on register. <br>\n",
    "* __Building Name__ is the the official name of the building a school is located in. <br>\n",
    "* __# Schools__ is the number of schools in in the building. <br>\n",
    "* __Schools in the Building__ is the names of the schools in the buildings. <br>\n",
    "* __Major N__ is the number of major crimes. <br>\n",
    "* __Oth N__ is the number of other crimes. <br>\n",
    "* __NoCrim N__ is the number of non - criminal crimes. <br>\n",
    "* __Prop N__ is the number of property crimes. <br>\n",
    "* __Vio N__ is the number of violent crimes. <br>\n",
    "* __EnGroup A__ is the building population. <br>\n",
    "* __Range A__ is the group name the building population falls under. <br>\n",
    "* __AvgofMajorN__ is the average of major crimes for all buildings that have the same EnGroupA/Range A. <br>\n",
    "* __AvgofOthN__ is the average of other crimes for all buildings that have the same EnGroupA/Range A. <br>\n",
    "* __AvgofNoCrimN__ is the average of non-criminal crimes for all buildings that have the same EnGroupA/Range A. <br>\n",
    "* __AvgofPropN__ is the average of property crimes for all buildings that have the same EnGroupA/Range A. <br>\n",
    "* __AvgofVioN__ is the average of violent crimes for all buildings that have the same EnGroupA/Range A. <br>\n",
    "---\n",
    "Let's take a breif look of our data."
   ]
  },
  {
   "cell_type": "markdown",
   "metadata": {},
   "source": [
    "* Use `.info()` to get summary information about the `ss1517`"
   ]
  },
  {
   "cell_type": "code",
   "execution_count": null,
   "metadata": {},
   "outputs": [],
   "source": []
  },
  {
   "cell_type": "markdown",
   "metadata": {},
   "source": [
    "While 8 of our column's dtpyes are object, 12 of them's dtypes are float.\n",
    "___\n",
    "\n",
    "Let's examine the summary statistics of our ss1517 df:"
   ]
  },
  {
   "cell_type": "markdown",
   "metadata": {},
   "source": [
    "* Use `.describe()` to receive summary statistics about `ss1517`"
   ]
  },
  {
   "cell_type": "code",
   "execution_count": null,
   "metadata": {
    "scrolled": true
   },
   "outputs": [],
   "source": []
  },
  {
   "cell_type": "markdown",
   "metadata": {},
   "source": [
    "### STEP 2: LOCATING & REMOVING NA VALUES"
   ]
  },
  {
   "cell_type": "markdown",
   "metadata": {},
   "source": [
    "Let's check whether our df has Na values or not:\n",
    "* Use `isnull().values.any()` for this purpose"
   ]
  },
  {
   "cell_type": "code",
   "execution_count": null,
   "metadata": {},
   "outputs": [],
   "source": []
  },
  {
   "cell_type": "markdown",
   "metadata": {},
   "source": [
    "Appearently, we have some Na values. Let's figure out how many Na values we have:"
   ]
  },
  {
   "cell_type": "markdown",
   "metadata": {},
   "source": [
    "* Use `isnull().values.sum()` to see how many NA values we have in `ss1517`"
   ]
  },
  {
   "cell_type": "code",
   "execution_count": null,
   "metadata": {},
   "outputs": [],
   "source": []
  },
  {
   "cell_type": "markdown",
   "metadata": {},
   "source": [
    "19392 of our values are Na. Wow!, that's a lot. In that case, we have 3 options: \n",
    "<br>\n",
    "1) We can get rid of them with `ss1517.dropna()` . We can do this but we also loose a lot of useful information because `.dropna()`__drops entire column that has Na value__ , and not every value in that column is Na. That's why we won't go with dropna().\n",
    "<br>\n",
    "2) We can use the `value` parameter of the `fillna()` function. In that case, we can only replace Na 's with one variable. If we try to replace them with int or float, we 'll also replace the Na values in the object columns, and the reverse is also applicable. It seems little messy. <br>\n",
    "3) We can use the `method`parameter of the `fillna()`function. We can set `method='ffill'`to replace Na values with the last valid observation, or we can set `method = 'bfill'`to replace Na values with the next valid observation. If we first set `method = 'ffill'`and then set `method = 'bfill'`, we can remove all Na values with the same dtype of columns. That way we are able to protect our dataframe's structure. That's why we'll go with this option. "
   ]
  },
  {
   "cell_type": "markdown",
   "metadata": {},
   "source": [
    "* Fill the NA values or drop them with the relevant method(s). Briefly explain why do you choose the particular method or why don't you choose the others.."
   ]
  },
  {
   "cell_type": "code",
   "execution_count": null,
   "metadata": {},
   "outputs": [],
   "source": []
  },
  {
   "cell_type": "code",
   "execution_count": null,
   "metadata": {},
   "outputs": [],
   "source": []
  },
  {
   "cell_type": "markdown",
   "metadata": {},
   "source": [
    "Na values check, once more.."
   ]
  },
  {
   "cell_type": "markdown",
   "metadata": {},
   "source": [
    "* Recheck whether you have NA values in `ss1517` or not with `isnull().values.any()`"
   ]
  },
  {
   "cell_type": "code",
   "execution_count": null,
   "metadata": {
    "scrolled": true
   },
   "outputs": [],
   "source": []
  },
  {
   "cell_type": "markdown",
   "metadata": {},
   "source": [
    "* Take a look at your data with `.info()` and evaluate your data within `ss1517`"
   ]
  },
  {
   "cell_type": "markdown",
   "metadata": {},
   "source": [
    "Great ! We don't have any Na values. \n",
    "___\n",
    "\n",
    "Let's check whether we made any changes after we implement `fillna()`\n",
    "* Use `info` for that purpose"
   ]
  },
  {
   "cell_type": "code",
   "execution_count": null,
   "metadata": {
    "scrolled": true
   },
   "outputs": [],
   "source": []
  },
  {
   "cell_type": "markdown",
   "metadata": {},
   "source": [
    "Great ! Everything seems to be in order.\n",
    "* Print the first 3 rows of your df."
   ]
  },
  {
   "cell_type": "code",
   "execution_count": null,
   "metadata": {},
   "outputs": [],
   "source": []
  },
  {
   "cell_type": "markdown",
   "metadata": {},
   "source": [
    "How beautiful does our data sets look like without Na values.."
   ]
  },
  {
   "cell_type": "markdown",
   "metadata": {},
   "source": [
    "### STEP 3: ANALYSING DATA"
   ]
  },
  {
   "cell_type": "markdown",
   "metadata": {},
   "source": [
    "__In this dataset, major crimes are coded like this:__<br>\n",
    "Burglary - 0<br>\n",
    "Grand larceny - 1<br>\n",
    "Grand larceny auto - 2<br>\n",
    "Murder - 3<br>\n",
    "Rape - 4 <br>\n",
    "Robbery - 5<br>\n",
    "Felony - 6<br>\n",
    "Assault - 8<br>\n",
    "___\n",
    "Let's check it out that how is major crimes' distribution in the number of Major Crimes , a.k.a. `Major N`\n",
    "* For that purpose, you can use `unique()` method.\n",
    "* Name your result as `avgmajor`"
   ]
  },
  {
   "cell_type": "code",
   "execution_count": null,
   "metadata": {},
   "outputs": [],
   "source": []
  },
  {
   "cell_type": "markdown",
   "metadata": {},
   "source": [
    "Though we have 7 different crimes, Burglary(0) and Grand Larcery(1) are so dominant that other crimes couldn't show themselves on the `Major N` .This explanation will be understood better once we plot our `Major N`(Number of Major Crimes) column.\n",
    "___"
   ]
  },
  {
   "cell_type": "markdown",
   "metadata": {},
   "source": [
    "Let's separate these two and dive deeper. and name it as `bigtwo` <br>\n",
    "Hint: You can use the following structure: `df[df[\"Column\"] <= yourfilter]`"
   ]
  },
  {
   "cell_type": "markdown",
   "metadata": {},
   "source": [
    "### BIG TWO"
   ]
  },
  {
   "cell_type": "code",
   "execution_count": 10,
   "metadata": {},
   "outputs": [],
   "source": [
    "bigtwo = ss1517[ss1517[\"Major N\"] <= 1]"
   ]
  },
  {
   "cell_type": "markdown",
   "metadata": {},
   "source": [
    "Let's examine our big two.\n",
    "* Start with `shape`, then proceed with `info()`\n",
    "* You can also print the first five columns for that purpose."
   ]
  },
  {
   "cell_type": "code",
   "execution_count": null,
   "metadata": {},
   "outputs": [],
   "source": []
  },
  {
   "cell_type": "code",
   "execution_count": null,
   "metadata": {
    "scrolled": true
   },
   "outputs": [],
   "source": []
  },
  {
   "cell_type": "code",
   "execution_count": null,
   "metadata": {
    "scrolled": true
   },
   "outputs": [],
   "source": []
  },
  {
   "cell_type": "markdown",
   "metadata": {},
   "source": [
    "There might be relevance between the tow big crimes and the Borough that they are commited. \n",
    "___\n",
    "* To figure out relevance, we need to know our Borough values. Let's find the unique values in Borough column by `unique()`function. <br>\n",
    "* Use `unique()` and return the unique values of `Borough` column of `bigtwo`\n"
   ]
  },
  {
   "cell_type": "code",
   "execution_count": null,
   "metadata": {},
   "outputs": [],
   "source": []
  },
  {
   "cell_type": "markdown",
   "metadata": {},
   "source": [
    "In that case : <br>\n",
    "__M__ represents Manhattan. <br>\n",
    "__Q__ represents Queens. <br>\n",
    "__R__ represents Rikers Island. <br>\n",
    "__K__ represents Brooklyn. <br>\n",
    "__X__ represents The Bronx. <br>\n",
    "__O__ represents Staten Island. <br>"
   ]
  },
  {
   "cell_type": "markdown",
   "metadata": {},
   "source": [
    "* Now, as we know Borough's and their actual names, we can examine the relationship between the bigtwo and Boroughs. We can do this through grouping them by Borough's. In that case, the most handy tool is  `groupby()`function.\n",
    "* Use `groupby()` and group `bigtwo` by it's `Borough`"
   ]
  },
  {
   "cell_type": "code",
   "execution_count": null,
   "metadata": {},
   "outputs": [],
   "source": []
  },
  {
   "cell_type": "markdown",
   "metadata": {},
   "source": [
    "* Evaluate the result **with your own words**. Remember, Data Science is all about explaining the story of the data. So, try your best and seeze the story behind the data.."
   ]
  },
  {
   "cell_type": "markdown",
   "metadata": {},
   "source": [
    "Well, it seems that burglary and grand larceny crimes are commited in Brooklyn first place, then the Bronx, then Manhattan. We can say that burglary and grand larceny crimes in NYC Public Schools are not relevant with the wealth because the richest borough of the NYC is Manhattan; and there are more burglary and grand larceny crimes commited in Manhattan than the poorest Borough in NYC, the Bronx.\n",
    "___\n",
    "Hmm, how about adding a new variable in our equasion and looking from different perspective ? <br>\n",
    "Let's examine our big two by the Borough's and the number of students in each schools, a.k.a. `Register` <br>\n",
    "That way, we can evaluate our bigtwo not only with Borough's and the wealth of them, but also with the population's of Borough's and their effects on burglary and grand larceny.\n",
    "___\n"
   ]
  },
  {
   "cell_type": "markdown",
   "metadata": {},
   "source": [
    "Now, we can say that there are much more grand larceny crime is commited than burglary in Manhattan. For other Borough's , everything is pretty much same. "
   ]
  },
  {
   "cell_type": "markdown",
   "metadata": {},
   "source": [
    "### OTHER MAJOR CRIMES"
   ]
  },
  {
   "cell_type": "markdown",
   "metadata": {},
   "source": [
    "Now, it is time to talk about the other major crimes : <br>\n",
    "Grand larceny auto - 2<br>\n",
    "Murder - 3<br>\n",
    "Rape - 4 <br>\n",
    "Robbery - 5<br>\n",
    "Felony - 6<br>\n",
    "Assault - 8<br>\n",
    "___\n",
    "As they did not occur as frequent as the burglary and the grand larceny, their contest is much more serious than bigtwo. Let's create a new dataframe and name it as `othercrimes`:\n",
    "* Hint: You can use the following structure: `df[df[\"Column\"] <= yourfilter]`"
   ]
  },
  {
   "cell_type": "code",
   "execution_count": null,
   "metadata": {},
   "outputs": [],
   "source": []
  },
  {
   "cell_type": "markdown",
   "metadata": {},
   "source": [
    "Let's examine the other crimes: \n",
    "* Start with `shape`, then proceed with `info()`\n",
    "* You can also print the first five rows for that purpose."
   ]
  },
  {
   "cell_type": "code",
   "execution_count": null,
   "metadata": {},
   "outputs": [],
   "source": []
  },
  {
   "cell_type": "code",
   "execution_count": null,
   "metadata": {
    "scrolled": true
   },
   "outputs": [],
   "source": []
  },
  {
   "cell_type": "markdown",
   "metadata": {},
   "source": [
    "* Print the first 3 rows of `othercrimes` df. "
   ]
  },
  {
   "cell_type": "code",
   "execution_count": null,
   "metadata": {},
   "outputs": [],
   "source": []
  },
  {
   "cell_type": "markdown",
   "metadata": {},
   "source": [
    "It seems that we won't use some of the columns in our dataset. Let's get rid of them. <br>\n",
    "We can do this by `drop()`function of Pandas. With `drop`we can drop columns.\n",
    "___\n",
    "* After careful review, your team lead thinks that `Location Code` column is unnecessary for our analysis.\n",
    "* Drop the `Location Code` column from `othercrimes` df.\n",
    "* After that, print the first 5 rows to check whether `Location Code` is dropped or not. "
   ]
  },
  {
   "cell_type": "code",
   "execution_count": null,
   "metadata": {
    "scrolled": true
   },
   "outputs": [],
   "source": []
  },
  {
   "cell_type": "markdown",
   "metadata": {},
   "source": [
    "Great ! In order to make smooother analysis, we'll only need 3 columns : <br>\n",
    "`# Schools` : Number of schools in the building. We are going to need this column because different schools means different population categories such as age and culture. Different categories might be the major crimes in school. <br>\n",
    "`EnGroupA`: Building population. <br>\n",
    "`Major N`: Other major crimes."
   ]
  },
  {
   "cell_type": "markdown",
   "metadata": {},
   "source": [
    "To study with only these 3 columns, we need to reshape our df.We can do this by `loc`and `iloc`\n",
    "* Update the `othercrimes` as it has only `# Schools`, `EnGroupA`, and `Major N` columns, nothing more. Use `loc` or `iloc` for this purpose."
   ]
  },
  {
   "cell_type": "code",
   "execution_count": null,
   "metadata": {},
   "outputs": [],
   "source": []
  },
  {
   "cell_type": "markdown",
   "metadata": {},
   "source": [
    "* Print the first 5 rows of your df's updated version."
   ]
  },
  {
   "cell_type": "code",
   "execution_count": null,
   "metadata": {},
   "outputs": [],
   "source": []
  },
  {
   "cell_type": "markdown",
   "metadata": {},
   "source": [
    "* Let's sort the values by Major N codes to see the relevance better.\n",
    "* Use `sort_values()` for that purpose."
   ]
  },
  {
   "cell_type": "code",
   "execution_count": null,
   "metadata": {},
   "outputs": [],
   "source": []
  },
  {
   "cell_type": "markdown",
   "metadata": {},
   "source": [
    "* Great! To see the effects of Building Population and Number of Other Schools in the Building on Other Major Crimes, let's pivot it. We can pivot it by `pivot_table`function of pandas.\n",
    "* Use `pivot_table` as follows:\n",
    "    * For index, use `EnGroupA`,\n",
    "    * For columns, use `# Schools`\n",
    "    * For values, use `Major N`"
   ]
  },
  {
   "cell_type": "markdown",
   "metadata": {},
   "source": [
    "We have Na values, again.. Replace them as we did earlier, with `bfill`and `ffill`parameters of `pd.fillna()`"
   ]
  },
  {
   "cell_type": "code",
   "execution_count": null,
   "metadata": {},
   "outputs": [],
   "source": []
  },
  {
   "cell_type": "markdown",
   "metadata": {},
   "source": [
    "Print the first 10 columns of `pivot_table` **df**."
   ]
  },
  {
   "cell_type": "code",
   "execution_count": null,
   "metadata": {},
   "outputs": [],
   "source": []
  },
  {
   "cell_type": "markdown",
   "metadata": {},
   "source": [
    "Great ! In order to make smooother analysis, we'll only need 3 columns : <br>\n",
    "`# Schools` : Number of schools in the building. We are going to need this column because different schools means different population categories such as age and culture. Different categories might be the major crimes in school. <br>\n",
    "`EnGroupA`: Building population. <br>\n",
    "`Major N`: Other major crimes."
   ]
  },
  {
   "cell_type": "markdown",
   "metadata": {},
   "source": [
    "* Evaluate your `pivot_table` df and final work with your own words."
   ]
  }
 ],
 "metadata": {
  "kernelspec": {
   "display_name": "Python 3 (ipykernel)",
   "language": "python",
   "name": "python3"
  },
  "language_info": {
   "codemirror_mode": {
    "name": "ipython",
    "version": 3
   },
   "file_extension": ".py",
   "mimetype": "text/x-python",
   "name": "python",
   "nbconvert_exporter": "python",
   "pygments_lexer": "ipython3",
   "version": "3.9.12"
  }
 },
 "nbformat": 4,
 "nbformat_minor": 4
}
