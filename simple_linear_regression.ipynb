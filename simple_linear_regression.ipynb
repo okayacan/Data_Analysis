{
 "cells": [
  {
   "cell_type": "markdown",
   "id": "e5425685",
   "metadata": {},
   "source": [
    "# **Correlation & Covariance**"
   ]
  },
  {
   "cell_type": "code",
   "execution_count": 3,
   "id": "7b644738",
   "metadata": {},
   "outputs": [],
   "source": [
    "import numpy as np\n",
    "import matplotlib.pyplot as plt\n",
    "import seaborn as sns\n",
    "from scipy import stats"
   ]
  },
  {
   "cell_type": "code",
   "execution_count": 4,
   "id": "58dd7dd6",
   "metadata": {},
   "outputs": [],
   "source": [
    "Ekran_sure = [3,5,2,0.5,5,3,1,4,3,4]\n",
    "AGNO = [2.7,2.2,3.3,3.4,2,3,3.6,2.4,3.3,2.6]"
   ]
  },
  {
   "cell_type": "code",
   "execution_count": 5,
   "id": "b0a22d6c",
   "metadata": {},
   "outputs": [
    {
     "data": {
      "text/plain": [
       "(-0.9237176155399289, 0.0001350066065559196)"
      ]
     },
     "execution_count": 5,
     "metadata": {},
     "output_type": "execute_result"
    }
   ],
   "source": [
    "#Pearson Correlation \n",
    "stats.pearsonr(Ekran_sure, AGNO)"
   ]
  },
  {
   "cell_type": "code",
   "execution_count": 6,
   "id": "fd68c0c2",
   "metadata": {},
   "outputs": [
    {
     "data": {
      "text/plain": [
       "(-0.9237176155399289, 0.0001350066065559196)"
      ]
     },
     "execution_count": 6,
     "metadata": {},
     "output_type": "execute_result"
    }
   ],
   "source": [
    "stats.pearsonr(AGNO, Ekran_sure)"
   ]
  },
  {
   "cell_type": "code",
   "execution_count": 7,
   "id": "be8e39a7",
   "metadata": {},
   "outputs": [
    {
     "data": {
      "text/plain": [
       "SpearmanrResult(correlation=-0.9598673337282836, pvalue=1.0811839955228442e-05)"
      ]
     },
     "execution_count": 7,
     "metadata": {},
     "output_type": "execute_result"
    }
   ],
   "source": [
    "#Spearman Correlation \n",
    "stats.spearmanr(Ekran_sure, AGNO)"
   ]
  },
  {
   "cell_type": "code",
   "execution_count": 21,
   "id": "3a2f6cef",
   "metadata": {},
   "outputs": [
    {
     "data": {
      "text/plain": [
       "array([[ 0.30277778, -0.78055556],\n",
       "       [-0.78055556,  2.35833333]])"
      ]
     },
     "execution_count": 21,
     "metadata": {},
     "output_type": "execute_result"
    }
   ],
   "source": [
    "#covariance \n",
    "np.cov(AGNO, Ekran_sure)"
   ]
  },
  {
   "cell_type": "code",
   "execution_count": 22,
   "id": "15159530",
   "metadata": {},
   "outputs": [
    {
     "data": {
      "text/plain": [
       "array([[ 1.        , -0.92371762],\n",
       "       [-0.92371762,  1.        ]])"
      ]
     },
     "execution_count": 22,
     "metadata": {},
     "output_type": "execute_result"
    }
   ],
   "source": [
    "#köşegenler r değerleri\n",
    "np.corrcoef(AGNO, Ekran_sure)"
   ]
  },
  {
   "cell_type": "markdown",
   "id": "3cfb6017",
   "metadata": {},
   "source": [
    "# **Linear Regression**\n"
   ]
  },
  {
   "cell_type": "code",
   "execution_count": 9,
   "id": "e138a7d9",
   "metadata": {},
   "outputs": [
    {
     "data": {
      "text/plain": [
       "LinregressResult(slope=-0.330977620730271, intercept=3.859481743227327, rvalue=-0.923717615539929, pvalue=0.00013500660655591895, stderr=0.048528537277862514, intercept_stderr=0.16403076320924556)"
      ]
     },
     "execution_count": 9,
     "metadata": {},
     "output_type": "execute_result"
    }
   ],
   "source": [
    "stats.linregress(Ekran_sure, AGNO)"
   ]
  },
  {
   "cell_type": "code",
   "execution_count": 10,
   "id": "67f18cc5",
   "metadata": {},
   "outputs": [],
   "source": [
    "slope, intercept, r_value, p_value, std_err = stats.linregress(Ekran_sure, AGNO)"
   ]
  },
  {
   "cell_type": "code",
   "execution_count": 11,
   "id": "b209fd1f",
   "metadata": {},
   "outputs": [
    {
     "data": {
      "text/plain": [
       "-0.330977620730271"
      ]
     },
     "execution_count": 11,
     "metadata": {},
     "output_type": "execute_result"
    }
   ],
   "source": [
    "slope"
   ]
  },
  {
   "cell_type": "code",
   "execution_count": 12,
   "id": "253e29b4",
   "metadata": {},
   "outputs": [
    {
     "data": {
      "text/plain": [
       "0.8532542332587721"
      ]
     },
     "execution_count": 12,
     "metadata": {},
     "output_type": "execute_result"
    }
   ],
   "source": [
    "R_squared = r_value**2\n",
    "R_squared"
   ]
  },
  {
   "cell_type": "code",
   "execution_count": 13,
   "id": "6406ae89",
   "metadata": {},
   "outputs": [
    {
     "data": {
      "text/plain": [
       "[3, 5, 2, 0.5, 5, 3, 1, 4, 3, 4]"
      ]
     },
     "execution_count": 13,
     "metadata": {},
     "output_type": "execute_result"
    }
   ],
   "source": [
    "Ekran_sure"
   ]
  },
  {
   "cell_type": "code",
   "execution_count": 14,
   "id": "83945c42",
   "metadata": {},
   "outputs": [
    {
     "data": {
      "text/plain": [
       "[2.7, 2.2, 3.3, 3.4, 2, 3, 3.6, 2.4, 3.3, 2.6]"
      ]
     },
     "execution_count": 14,
     "metadata": {},
     "output_type": "execute_result"
    }
   ],
   "source": [
    "AGNO"
   ]
  },
  {
   "cell_type": "code",
   "execution_count": 15,
   "id": "cf911eb1",
   "metadata": {},
   "outputs": [],
   "source": [
    "#prediction yapalım\n",
    "\n",
    "x_p = np.array([0,1,2,3,4,5])"
   ]
  },
  {
   "cell_type": "code",
   "execution_count": 16,
   "id": "3e33a071",
   "metadata": {},
   "outputs": [],
   "source": [
    "y_p = intercept + slope * x_p"
   ]
  },
  {
   "cell_type": "code",
   "execution_count": 17,
   "id": "8353fd94",
   "metadata": {},
   "outputs": [
    {
     "data": {
      "text/plain": [
       "array([0, 1, 2, 3, 4, 5])"
      ]
     },
     "execution_count": 17,
     "metadata": {},
     "output_type": "execute_result"
    }
   ],
   "source": [
    "x_p "
   ]
  },
  {
   "cell_type": "code",
   "execution_count": 18,
   "id": "646e6a73",
   "metadata": {},
   "outputs": [
    {
     "data": {
      "text/plain": [
       "array([3.85948174, 3.52850412, 3.1975265 , 2.86654888, 2.53557126,\n",
       "       2.20459364])"
      ]
     },
     "execution_count": 18,
     "metadata": {},
     "output_type": "execute_result"
    }
   ],
   "source": [
    "y_p"
   ]
  },
  {
   "cell_type": "code",
   "execution_count": 19,
   "id": "1c96f1a5",
   "metadata": {},
   "outputs": [],
   "source": [
    "x_new = np.linspace(0,5,100)\n",
    "y_new = intercept + slope * x_new"
   ]
  },
  {
   "cell_type": "code",
   "execution_count": 20,
   "id": "d033afae",
   "metadata": {},
   "outputs": [
    {
     "data": {
      "image/png": "[encoded data removed]",
      "text/plain": [
       "<Figure size 576x432 with 1 Axes>"
      ]
     },
     "metadata": {
      "needs_background": "light"
     },
     "output_type": "display_data"
    }
   ],
   "source": [
    "plt.figure(figsize=(8,6))\n",
    "ax = plt.axes()\n",
    "ax.scatter(Ekran_sure, AGNO)\n",
    "ax.plot(x_new, y_new)\n",
    "ax.set_xlabel(\"Ekran Sure\")\n",
    "ax.set_ylabel(\"AGNO\")\n",
    "ax.axis(\"tight\")\n",
    "plt.show()"
   ]
  },
  {
   "cell_type": "code",
   "execution_count": null,
   "id": "1246e4bc",
   "metadata": {},
   "outputs": [],
   "source": []
  }
 ],
 "metadata": {
  "kernelspec": {
   "display_name": "Python 3 (ipykernel)",
   "language": "python",
   "name": "python3"
  },
  "language_info": {
   "codemirror_mode": {
    "name": "ipython",
    "version": 3
   },
   "file_extension": ".py",
   "mimetype": "text/x-python",
   "name": "python",
   "nbconvert_exporter": "python",
   "pygments_lexer": "ipython3",
   "version": "3.9.7"
  }
 },
 "nbformat": 4,
 "nbformat_minor": 5
}
