{
 "cells": [
  {
   "cell_type": "markdown",
   "id": "b9884ddd",
   "metadata": {},
   "source": [
    "# Mean - Median - Mode - Skewwness "
   ]
  },
  {
   "cell_type": "code",
   "execution_count": 1,
   "id": "690ca8ba",
   "metadata": {},
   "outputs": [],
   "source": [
    "import numpy as np\n",
    "from scipy import stats"
   ]
  },
  {
   "cell_type": "code",
   "execution_count": 2,
   "id": "03283eb2",
   "metadata": {},
   "outputs": [],
   "source": [
    "age = [20, 22, 25, 25, 27, 27, 27, 29, 30, 31, 121]"
   ]
  },
  {
   "cell_type": "code",
   "execution_count": 3,
   "id": "5a8ff8d7",
   "metadata": {},
   "outputs": [
    {
     "data": {
      "text/plain": [
       "34.90909090909091"
      ]
     },
     "execution_count": 3,
     "metadata": {},
     "output_type": "execute_result"
    }
   ],
   "source": [
    "np.mean(age)"
   ]
  },
  {
   "cell_type": "code",
   "execution_count": 4,
   "id": "9dabf984",
   "metadata": {},
   "outputs": [
    {
     "data": {
      "text/plain": [
       "27.0"
      ]
     },
     "execution_count": 4,
     "metadata": {},
     "output_type": "execute_result"
    }
   ],
   "source": [
    "np.median(age)"
   ]
  },
  {
   "cell_type": "code",
   "execution_count": 5,
   "id": "19484403",
   "metadata": {},
   "outputs": [
    {
     "data": {
      "text/plain": [
       "ModeResult(mode=array([27]), count=array([3]))"
      ]
     },
     "execution_count": 5,
     "metadata": {},
     "output_type": "execute_result"
    }
   ],
   "source": [
    "stats.mode(age)"
   ]
  },
  {
   "cell_type": "code",
   "execution_count": 6,
   "id": "0d698c22",
   "metadata": {},
   "outputs": [
    {
     "data": {
      "text/plain": [
       "array([27])"
      ]
     },
     "execution_count": 6,
     "metadata": {},
     "output_type": "execute_result"
    }
   ],
   "source": [
    "stats.mode(age)[0]"
   ]
  },
  {
   "cell_type": "code",
   "execution_count": 7,
   "id": "0f654dfb",
   "metadata": {},
   "outputs": [],
   "source": [
    "import pandas as pd"
   ]
  },
  {
   "cell_type": "code",
   "execution_count": 8,
   "id": "9bbcfe07",
   "metadata": {},
   "outputs": [],
   "source": [
    "data = {\"D1\":[135, 137, 136, 138, 138],\n",
    "\n",
    "              \"D2\":[43,   42, 42, 42, 42],\n",
    "\n",
    "              \"D3\":[72, 73, 72, 72, 73],\n",
    "\n",
    "              \"D4\":[100, 102, 100, 103, 104]};"
   ]
  },
  {
   "cell_type": "code",
   "execution_count": 9,
   "id": "d747bf4f",
   "metadata": {},
   "outputs": [],
   "source": [
    "df = pd.DataFrame(data)"
   ]
  },
  {
   "cell_type": "code",
   "execution_count": 10,
   "id": "aaf632c9",
   "metadata": {},
   "outputs": [
    {
     "data": {
      "text/html": [
       "<div>\n",
       "<style scoped>\n",
       "    .dataframe tbody tr th:only-of-type {\n",
       "        vertical-align: middle;\n",
       "    }\n",
       "\n",
       "    .dataframe tbody tr th {\n",
       "        vertical-align: top;\n",
       "    }\n",
       "\n",
       "    .dataframe thead th {\n",
       "        text-align: right;\n",
       "    }\n",
       "</style>\n",
       "<table border=\"1\" class=\"dataframe\">\n",
       "  <thead>\n",
       "    <tr style=\"text-align: right;\">\n",
       "      <th></th>\n",
       "      <th>D1</th>\n",
       "      <th>D2</th>\n",
       "      <th>D3</th>\n",
       "      <th>D4</th>\n",
       "    </tr>\n",
       "  </thead>\n",
       "  <tbody>\n",
       "    <tr>\n",
       "      <th>0</th>\n",
       "      <td>135</td>\n",
       "      <td>43</td>\n",
       "      <td>72</td>\n",
       "      <td>100</td>\n",
       "    </tr>\n",
       "    <tr>\n",
       "      <th>1</th>\n",
       "      <td>137</td>\n",
       "      <td>42</td>\n",
       "      <td>73</td>\n",
       "      <td>102</td>\n",
       "    </tr>\n",
       "    <tr>\n",
       "      <th>2</th>\n",
       "      <td>136</td>\n",
       "      <td>42</td>\n",
       "      <td>72</td>\n",
       "      <td>100</td>\n",
       "    </tr>\n",
       "    <tr>\n",
       "      <th>3</th>\n",
       "      <td>138</td>\n",
       "      <td>42</td>\n",
       "      <td>72</td>\n",
       "      <td>103</td>\n",
       "    </tr>\n",
       "    <tr>\n",
       "      <th>4</th>\n",
       "      <td>138</td>\n",
       "      <td>42</td>\n",
       "      <td>73</td>\n",
       "      <td>104</td>\n",
       "    </tr>\n",
       "  </tbody>\n",
       "</table>\n",
       "</div>"
      ],
      "text/plain": [
       "    D1  D2  D3   D4\n",
       "0  135  43  72  100\n",
       "1  137  42  73  102\n",
       "2  136  42  72  100\n",
       "3  138  42  72  103\n",
       "4  138  42  73  104"
      ]
     },
     "execution_count": 10,
     "metadata": {},
     "output_type": "execute_result"
    }
   ],
   "source": [
    "df"
   ]
  },
  {
   "cell_type": "code",
   "execution_count": 11,
   "id": "e0fda8c4",
   "metadata": {},
   "outputs": [
    {
     "data": {
      "text/plain": [
       "D1    136.8\n",
       "D2     42.2\n",
       "D3     72.4\n",
       "D4    101.8\n",
       "dtype: float64"
      ]
     },
     "execution_count": 11,
     "metadata": {},
     "output_type": "execute_result"
    }
   ],
   "source": [
    "df.mean()"
   ]
  },
  {
   "cell_type": "code",
   "execution_count": 12,
   "id": "99a8d1dd",
   "metadata": {},
   "outputs": [
    {
     "data": {
      "text/plain": [
       "42.2"
      ]
     },
     "execution_count": 12,
     "metadata": {},
     "output_type": "execute_result"
    }
   ],
   "source": [
    "df[\"D2\"].mean()"
   ]
  },
  {
   "cell_type": "code",
   "execution_count": 13,
   "id": "437679b6",
   "metadata": {},
   "outputs": [
    {
     "data": {
      "text/plain": [
       "0    138\n",
       "dtype: int64"
      ]
     },
     "execution_count": 13,
     "metadata": {},
     "output_type": "execute_result"
    }
   ],
   "source": [
    "df[\"D1\"].mode()"
   ]
  },
  {
   "cell_type": "code",
   "execution_count": 14,
   "id": "1801bbe1",
   "metadata": {},
   "outputs": [
    {
     "data": {
      "text/plain": [
       "102.0"
      ]
     },
     "execution_count": 14,
     "metadata": {},
     "output_type": "execute_result"
    }
   ],
   "source": [
    "df[\"D4\"].median()"
   ]
  },
  {
   "cell_type": "code",
   "execution_count": null,
   "id": "a77e31c0",
   "metadata": {},
   "outputs": [],
   "source": []
  },
  {
   "cell_type": "markdown",
   "id": "7279e9ee",
   "metadata": {},
   "source": [
    "# Dispersion"
   ]
  },
  {
   "cell_type": "code",
   "execution_count": 15,
   "id": "0c82ef8b",
   "metadata": {},
   "outputs": [],
   "source": [
    "age = [20, 22, 25, 25, 27, 27, 27, 29, 30, 31]"
   ]
  },
  {
   "cell_type": "code",
   "execution_count": 16,
   "id": "98604d82",
   "metadata": {},
   "outputs": [
    {
     "data": {
      "text/plain": [
       "3.2572994949804666"
      ]
     },
     "execution_count": 16,
     "metadata": {},
     "output_type": "execute_result"
    }
   ],
   "source": [
    "np.std(age)"
   ]
  },
  {
   "cell_type": "code",
   "execution_count": 17,
   "id": "0d15ae59",
   "metadata": {},
   "outputs": [],
   "source": [
    "age2 = [20, 22, 25, 25, 27, 27, 27, 29, 30, 31, 121]"
   ]
  },
  {
   "cell_type": "code",
   "execution_count": 18,
   "id": "a0437d8a",
   "metadata": {},
   "outputs": [
    {
     "data": {
      "text/plain": [
       "27.400910885504736"
      ]
     },
     "execution_count": 18,
     "metadata": {},
     "output_type": "execute_result"
    }
   ],
   "source": [
    "np.std(age2)"
   ]
  },
  {
   "cell_type": "code",
   "execution_count": 20,
   "id": "1a8da17d",
   "metadata": {},
   "outputs": [
    {
     "data": {
      "text/plain": [
       "101"
      ]
     },
     "execution_count": 20,
     "metadata": {},
     "output_type": "execute_result"
    }
   ],
   "source": [
    "#range\n",
    "np.max(age2) - np.min(age2)"
   ]
  },
  {
   "cell_type": "code",
   "execution_count": 21,
   "id": "9eafe16c",
   "metadata": {},
   "outputs": [
    {
     "data": {
      "text/plain": [
       "750.809917355372"
      ]
     },
     "execution_count": 21,
     "metadata": {},
     "output_type": "execute_result"
    }
   ],
   "source": [
    "#variance\n",
    "np.var(age2)"
   ]
  },
  {
   "cell_type": "code",
   "execution_count": 22,
   "id": "28a59a81",
   "metadata": {},
   "outputs": [],
   "source": [
    "# IQR\n",
    "from scipy.stats import iqr"
   ]
  },
  {
   "cell_type": "code",
   "execution_count": 23,
   "id": "1d17e6a2",
   "metadata": {},
   "outputs": [
    {
     "data": {
      "text/plain": [
       "4.5"
      ]
     },
     "execution_count": 23,
     "metadata": {},
     "output_type": "execute_result"
    }
   ],
   "source": [
    "iqr(age2)"
   ]
  },
  {
   "cell_type": "code",
   "execution_count": 25,
   "id": "7dd67c94",
   "metadata": {},
   "outputs": [
    {
     "data": {
      "text/plain": [
       "25.0"
      ]
     },
     "execution_count": 25,
     "metadata": {},
     "output_type": "execute_result"
    }
   ],
   "source": [
    "#Q1 ve Q3 hesabı\n",
    "\n",
    "q1 = np.percentile(age2, 25)\n",
    "q1"
   ]
  },
  {
   "cell_type": "code",
   "execution_count": 26,
   "id": "c9178794",
   "metadata": {},
   "outputs": [
    {
     "data": {
      "text/plain": [
       "29.5"
      ]
     },
     "execution_count": 26,
     "metadata": {},
     "output_type": "execute_result"
    }
   ],
   "source": [
    "q3 = np.percentile(age2, 75)\n",
    "q3"
   ]
  },
  {
   "cell_type": "code",
   "execution_count": 27,
   "id": "f02acea0",
   "metadata": {},
   "outputs": [
    {
     "data": {
      "text/plain": [
       "4.5"
      ]
     },
     "execution_count": 27,
     "metadata": {},
     "output_type": "execute_result"
    }
   ],
   "source": [
    "iqr = q3 - q1\n",
    "iqr"
   ]
  },
  {
   "cell_type": "code",
   "execution_count": 28,
   "id": "c74a9aee",
   "metadata": {},
   "outputs": [
    {
     "data": {
      "text/plain": [
       "27.0"
      ]
     },
     "execution_count": 28,
     "metadata": {},
     "output_type": "execute_result"
    }
   ],
   "source": [
    "np.percentile(age2, 50)"
   ]
  },
  {
   "cell_type": "code",
   "execution_count": 29,
   "id": "b2449463",
   "metadata": {},
   "outputs": [
    {
     "data": {
      "text/plain": [
       "27.0"
      ]
     },
     "execution_count": 29,
     "metadata": {},
     "output_type": "execute_result"
    }
   ],
   "source": [
    "np.median(age2)"
   ]
  },
  {
   "cell_type": "code",
   "execution_count": null,
   "id": "cee872e4",
   "metadata": {},
   "outputs": [],
   "source": []
  },
  {
   "cell_type": "markdown",
   "id": "2867fdb7",
   "metadata": {},
   "source": [
    "# Skewness and Kurtosis"
   ]
  },
  {
   "cell_type": "code",
   "execution_count": 30,
   "id": "c7b3639b",
   "metadata": {},
   "outputs": [
    {
     "data": {
      "text/plain": [
       "5.876609699981859"
      ]
     },
     "execution_count": 30,
     "metadata": {},
     "output_type": "execute_result"
    }
   ],
   "source": [
    "#kurtosis\n",
    "stats.kurtosis(age2)"
   ]
  },
  {
   "cell_type": "code",
   "execution_count": 31,
   "id": "da9599f7",
   "metadata": {},
   "outputs": [
    {
     "data": {
      "text/plain": [
       "2.778572264050739"
      ]
     },
     "execution_count": 31,
     "metadata": {},
     "output_type": "execute_result"
    }
   ],
   "source": [
    "#skewness\n",
    "stats.skew(age2)"
   ]
  },
  {
   "attachments": {},
   "cell_type": "markdown",
   "id": "d6235f32",
   "metadata": {},
   "source": []
  },
  {
   "cell_type": "markdown",
   "id": "5bf858d9",
   "metadata": {},
   "source": [
    "# Population and Sample"
   ]
  },
  {
   "cell_type": "code",
   "execution_count": 37,
   "id": "a15f394d",
   "metadata": {},
   "outputs": [],
   "source": [
    "np.random.seed(101)\n",
    "\n",
    "population = np.random.randint(0,100,size=1000)"
   ]
  },
  {
   "cell_type": "code",
   "execution_count": 38,
   "id": "b1e58224",
   "metadata": {},
   "outputs": [
    {
     "data": {
      "text/plain": [
       "array([95, 11, 81, 70, 63, 87, 75,  9, 77, 40,  4, 63, 40, 60, 92, 64,  5,\n",
       "       12, 93, 40, 49, 83,  8, 29, 59, 34, 44, 72, 19, 10, 76, 95, 87,  0,\n",
       "       73,  8, 62, 36, 83, 99, 28, 63,  7, 10, 52, 56, 38, 73, 52, 18, 71,\n",
       "       15, 44,  0, 12, 17, 75, 79, 97, 93, 24, 36, 63, 19, 35, 30, 10, 60,\n",
       "       20, 27,  8, 86, 26, 87, 46, 47, 54, 86,  9, 45,  2, 18, 58, 92, 11,\n",
       "       10, 94, 35, 28,  3, 83, 84, 47, 14, 69, 60, 69, 51,  6, 88, 71, 68,\n",
       "       23, 35, 79, 98, 67, 82, 57, 77, 46,  3, 46, 29, 86, 21, 21, 81, 23,\n",
       "       94, 71, 20, 27, 75,  5, 49, 86, 89, 63, 82, 77,  3, 56, 14, 49, 87,\n",
       "       52, 13, 47, 49, 24, 20, 64, 52, 60, 47, 29, 60, 53, 11, 40, 91, 45,\n",
       "       97, 24, 36, 38,  9, 52, 67, 43,  1, 79, 68, 68, 61, 18, 51, 14, 28,\n",
       "       17, 87, 46, 52, 16, 70, 71, 84, 10, 62, 96, 57, 23, 86, 85, 26, 76,\n",
       "       66, 54, 17, 65, 57, 89,  2, 80, 50, 66, 88, 79, 93,  6, 92, 42, 22,\n",
       "       20, 25, 97, 54, 71, 72, 80, 93, 64, 63, 80, 38, 45, 35, 25, 95, 75,\n",
       "       72, 11, 76, 79, 50, 22, 59, 66,  1, 34, 37, 57, 35, 42, 44, 49, 31,\n",
       "       79, 85,  3, 55, 73, 93, 94, 99, 40, 54, 88, 94, 86, 17, 68, 17, 18,\n",
       "       60, 83, 82,  7, 67, 34, 76, 94, 20, 69, 73, 59, 34, 69, 25, 78, 92,\n",
       "       74, 75, 33,  9, 43, 20, 82, 30,  3, 46, 29, 47, 27, 81, 71, 25, 94,\n",
       "       57, 21, 29,  6, 54, 47, 47, 60,  6, 75, 97, 53, 44, 98, 39, 32, 87,\n",
       "       78, 21, 90, 14, 20,  1, 70, 25, 45, 96, 32, 31, 41, 79, 87, 22, 94,\n",
       "       46, 71, 24, 41, 36, 31, 16, 87, 22, 96,  3, 12, 71,  9, 87, 95, 39,\n",
       "       64, 62, 88, 76, 93, 83, 95, 68, 69, 59, 52,  7, 40, 73, 86, 14, 49,\n",
       "       97, 25, 57, 40, 17, 32, 83, 97, 27, 47, 13, 70, 15, 92, 18, 94, 48,\n",
       "       65, 82, 34,  5, 46, 83, 27, 26, 20, 87, 84, 17, 59, 64, 44,  4, 51,\n",
       "       49, 74, 82, 37, 53, 93, 73,  5, 37, 56, 35, 15, 40, 42, 71, 37, 46,\n",
       "       71, 91, 97, 36, 43, 27, 66, 57,  3, 55, 70, 41, 67, 72, 88, 67, 75,\n",
       "       69, 92, 20, 15, 57,  9, 69, 97, 91, 51, 54, 45, 38, 15, 42, 61,  8,\n",
       "        3, 88, 72, 41, 24, 93, 28, 95, 43, 48, 69, 42, 66, 82, 66, 88, 78,\n",
       "       14, 53, 46, 14, 27, 68, 21, 38, 42, 30, 88, 79, 56, 65, 93, 37, 87,\n",
       "       66, 16, 60, 25, 99, 30, 41, 72, 45, 26, 87, 65, 60, 89, 70, 33, 59,\n",
       "       28, 16, 49, 95, 41, 11, 86, 15, 95, 91, 19, 69,  1, 77, 63, 87, 28,\n",
       "       70,  5,  3, 12, 62, 26, 96, 61, 87, 74, 99, 97, 64, 95,  3, 88, 59,\n",
       "       38, 29, 31, 88, 57,  9, 62, 31, 13, 35, 47,  2, 17, 50, 22, 30, 36,\n",
       "       22, 97, 51, 38, 28,  4,  0, 12, 90,  2,  7, 44, 54, 49, 76, 98,  3,\n",
       "       32, 91, 43,  7, 42, 66,  9,  5, 26, 66, 22, 47, 27, 46, 14, 52, 74,\n",
       "       54,  3, 94, 36, 63, 41, 18, 37, 45, 82, 47, 66, 97, 20,  9, 87, 40,\n",
       "       13, 95, 16, 38, 87, 72, 60, 78, 53, 48, 83, 90, 41, 84, 78, 55, 70,\n",
       "       93, 57, 86, 67,  8, 47, 70, 39, 53,  5, 40, 88, 58, 12, 70,  5, 82,\n",
       "        8, 60, 58, 45, 92, 85, 44, 62, 39, 38, 54, 98, 80, 93, 16, 37, 58,\n",
       "       40, 72, 72, 22, 42, 38, 45, 16, 52, 17, 22, 15, 18, 37, 48,  2,  2,\n",
       "       31, 50, 78, 70, 40, 60, 62, 69, 34, 95, 58,  4, 70, 20, 18, 66, 23,\n",
       "       87, 45, 64,  6, 39, 29, 60, 33, 18, 59, 64, 59, 65, 10, 86, 66, 38,\n",
       "       76, 97, 79,  7, 65, 50, 53,  4, 39,  1,  5, 67, 92, 50, 59,  2, 91,\n",
       "       14, 12, 68, 87, 13, 18,  4, 89, 22, 40,  7,  2, 83, 19, 68, 89, 16,\n",
       "        1,  2, 73, 65, 24, 84, 17, 21, 97, 44, 36, 38, 93, 32,  5, 76, 19,\n",
       "       33, 76, 41, 21, 20, 54, 77, 62, 99,  4, 52, 83, 55, 11, 46, 39, 92,\n",
       "       34, 54, 49, 11, 62, 11, 83, 25, 32, 40, 27, 30, 92, 59, 86, 74, 17,\n",
       "       69, 85,  4,  5, 49, 29, 41, 38, 22, 45, 10, 65, 77, 72, 90, 80, 64,\n",
       "       81, 20,  2, 20, 53, 38, 94, 49, 26, 88, 21, 38, 52, 74, 96, 19, 77,\n",
       "        5, 70, 27, 92,  6, 97, 71, 23, 90, 78, 85, 61, 79, 54, 56, 64, 41,\n",
       "       61, 56,  2, 86, 19, 77,  5, 44, 15, 75, 70, 12, 13, 93, 21, 46, 28,\n",
       "       20, 70, 14, 56, 19, 79, 59, 33, 33, 11, 44, 43, 93,  3, 39, 77,  3,\n",
       "       58, 51, 32, 46,  8,  9, 13, 63, 59, 79,  5, 33, 47, 29, 79, 62, 25,\n",
       "       43, 46, 94, 68, 55, 69, 41, 41, 14, 47,  3, 64, 23, 80, 42, 84, 88,\n",
       "       89, 10, 78, 97, 65,  8, 14, 28, 80, 17, 62, 27, 33, 14, 21, 25, 96,\n",
       "       64, 84,  6, 76, 95, 43, 94, 40, 68, 45, 24, 50, 36, 62, 52,  9, 79,\n",
       "       74, 30, 70, 90, 58, 97, 57, 60, 64, 86, 93, 31, 22, 90,  3, 52,  9,\n",
       "       93, 60, 42,  1, 15, 38, 65, 10, 86, 63, 98, 11, 96, 67, 95, 94, 80,\n",
       "       16, 30, 89, 62, 62, 42, 10, 48, 86, 33, 52, 24, 94, 78, 71, 19, 75,\n",
       "       81, 71, 23, 93, 58, 48, 76, 63, 58, 28, 84, 47, 40, 63])"
      ]
     },
     "execution_count": 38,
     "metadata": {},
     "output_type": "execute_result"
    }
   ],
   "source": [
    "population"
   ]
  },
  {
   "cell_type": "code",
   "execution_count": 39,
   "id": "ac22a9d9",
   "metadata": {},
   "outputs": [],
   "source": [
    "#sampling\n",
    "np.random.seed(51)\n",
    "sample = np.random.choice(population,100)"
   ]
  },
  {
   "cell_type": "code",
   "execution_count": 40,
   "id": "9bb4a3fd",
   "metadata": {},
   "outputs": [
    {
     "data": {
      "text/plain": [
       "array([79, 26, 84, 16, 92, 29, 96, 65, 45, 17,  9, 85, 33,  4, 47, 93, 19,\n",
       "       14, 20, 68, 43, 40, 19, 92, 43,  8, 75, 65, 55, 46, 15, 74, 32, 59,\n",
       "       87, 12, 87, 43, 19, 19, 26, 49, 57, 47,  5, 68, 52, 56, 78, 34, 11,\n",
       "       95, 65, 55, 21, 38, 52, 17, 31,  5, 81,  5, 72,  8, 49, 20, 19, 35,\n",
       "       27, 55, 44, 80, 18, 70, 82, 40, 76,  3, 48, 28, 47, 80, 69, 41, 41,\n",
       "       84, 54, 60, 62, 16, 64, 41, 28, 77, 90, 39, 27, 16, 20, 28])"
      ]
     },
     "execution_count": 40,
     "metadata": {},
     "output_type": "execute_result"
    }
   ],
   "source": [
    "sample"
   ]
  },
  {
   "cell_type": "code",
   "execution_count": 41,
   "id": "d337e66d",
   "metadata": {},
   "outputs": [
    {
     "data": {
      "text/plain": [
       "50.372"
      ]
     },
     "execution_count": 41,
     "metadata": {},
     "output_type": "execute_result"
    }
   ],
   "source": [
    "population.mean()"
   ]
  },
  {
   "cell_type": "code",
   "execution_count": 42,
   "id": "a1574aa2",
   "metadata": {},
   "outputs": [
    {
     "data": {
      "text/plain": [
       "45.8"
      ]
     },
     "execution_count": 42,
     "metadata": {},
     "output_type": "execute_result"
    }
   ],
   "source": [
    "sample.mean()"
   ]
  },
  {
   "cell_type": "code",
   "execution_count": 43,
   "id": "a6a55c9a",
   "metadata": {},
   "outputs": [
    {
     "data": {
      "text/plain": [
       "[52.93,\n",
       " 52.71,\n",
       " 51.48,\n",
       " 49.02,\n",
       " 50.72,\n",
       " 45.84,\n",
       " 48.77,\n",
       " 48.41,\n",
       " 54.01,\n",
       " 44.87,\n",
       " 51.72,\n",
       " 51.65,\n",
       " 54.57,\n",
       " 48.83,\n",
       " 44.41,\n",
       " 49.63,\n",
       " 49.15,\n",
       " 50.02,\n",
       " 48.74,\n",
       " 52.77,\n",
       " 51.26,\n",
       " 49.28,\n",
       " 52.28,\n",
       " 50.7,\n",
       " 52.81,\n",
       " 46.22,\n",
       " 54.3,\n",
       " 46.9,\n",
       " 49.29,\n",
       " 46.83,\n",
       " 49.81,\n",
       " 45.98,\n",
       " 53.15,\n",
       " 50.75,\n",
       " 41.74,\n",
       " 47.2,\n",
       " 51.9,\n",
       " 48.24,\n",
       " 52.57,\n",
       " 50.34,\n",
       " 45.78,\n",
       " 48.94,\n",
       " 56.4,\n",
       " 51.11,\n",
       " 50.95,\n",
       " 44.03,\n",
       " 51.2,\n",
       " 47.32,\n",
       " 53.74,\n",
       " 48.19,\n",
       " 54.51,\n",
       " 47.38,\n",
       " 50.3,\n",
       " 49.49,\n",
       " 52.27,\n",
       " 53.45,\n",
       " 53.87,\n",
       " 52.99,\n",
       " 54.08,\n",
       " 53.49,\n",
       " 52.23,\n",
       " 47.72,\n",
       " 49.48,\n",
       " 53.17,\n",
       " 51.83,\n",
       " 52.98,\n",
       " 47.68,\n",
       " 54.8,\n",
       " 50.11,\n",
       " 50.31,\n",
       " 52.07,\n",
       " 49.52,\n",
       " 51.08,\n",
       " 53.73,\n",
       " 47.46,\n",
       " 48.05,\n",
       " 46.97,\n",
       " 47.07,\n",
       " 50.67,\n",
       " 46.96,\n",
       " 49.74,\n",
       " 50.45,\n",
       " 50.02,\n",
       " 49.99,\n",
       " 48.17,\n",
       " 48.72,\n",
       " 48.8,\n",
       " 53.64,\n",
       " 48.65,\n",
       " 55.24,\n",
       " 45.34,\n",
       " 52.11,\n",
       " 51.73,\n",
       " 51.0,\n",
       " 52.41,\n",
       " 49.71,\n",
       " 49.24,\n",
       " 48.12,\n",
       " 49.51,\n",
       " 43.78]"
      ]
     },
     "execution_count": 43,
     "metadata": {},
     "output_type": "execute_result"
    }
   ],
   "source": [
    "sample_means = []\n",
    "for i in range(100):\n",
    "  sample = np.random.choice(population, 100)\n",
    "  sample_means.append(sample.mean())\n",
    "\n",
    "sample_means"
   ]
  },
  {
   "cell_type": "code",
   "execution_count": 44,
   "id": "ad6d1ff5",
   "metadata": {},
   "outputs": [
    {
     "data": {
      "text/plain": [
       "50.11549999999999"
      ]
     },
     "execution_count": 44,
     "metadata": {},
     "output_type": "execute_result"
    }
   ],
   "source": [
    "np.mean(sample_means)"
   ]
  },
  {
   "cell_type": "code",
   "execution_count": null,
   "id": "d22c7942",
   "metadata": {},
   "outputs": [],
   "source": []
  },
  {
   "cell_type": "code",
   "execution_count": null,
   "id": "419bb865",
   "metadata": {},
   "outputs": [],
   "source": []
  }
 ],
 "metadata": {
  "kernelspec": {
   "display_name": "Python 3 (ipykernel)",
   "language": "python",
   "name": "python3"
  },
  "language_info": {
   "codemirror_mode": {
    "name": "ipython",
    "version": 3
   },
   "file_extension": ".py",
   "mimetype": "text/x-python",
   "name": "python",
   "nbconvert_exporter": "python",
   "pygments_lexer": "ipython3",
   "version": "3.9.7"
  }
 },
 "nbformat": 4,
 "nbformat_minor": 5
}
